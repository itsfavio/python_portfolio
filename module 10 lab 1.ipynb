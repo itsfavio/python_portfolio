{
 "cells": [
  {
   "cell_type": "code",
   "execution_count": 1,
   "id": "7cdf5138",
   "metadata": {},
   "outputs": [],
   "source": [
    "import numpy as np\n",
    "import pandas as pd\n",
    "import matplotlib.pyplot as plt"
   ]
  },
  {
   "cell_type": "markdown",
   "id": "d6b0bc3a",
   "metadata": {},
   "source": [
    "### Using appropriate correlation and regression tests, find which of the variables is the best predictor of NOX (nitric oxides concentration). For that model, provide the regression plot and equation.  "
   ]
  },
  {
   "cell_type": "code",
   "execution_count": 18,
   "id": "d6aaff17",
   "metadata": {},
   "outputs": [],
   "source": [
    "boston_path = \"C:\\\\Users\\\\User1\\\\Downloads\\\\OA 5.7 - boston.csv\"\n",
    "\n",
    "boston_data = pd.read_csv(boston_path)"
   ]
  },
  {
   "cell_type": "code",
   "execution_count": 3,
   "id": "08458599",
   "metadata": {},
   "outputs": [],
   "source": [
    "nox_variable_columns = boston_data.columns[boston_data.columns != 'NOX']\n",
    "\n",
    "medv_var_columns = boston_data.columns[boston_data.columns != 'MEDV']"
   ]
  },
  {
   "cell_type": "code",
   "execution_count": 4,
   "id": "47d9b102",
   "metadata": {},
   "outputs": [
    {
     "name": "stdout",
     "output_type": "stream",
     "text": [
      "Index(['CRIM', 'ZN', 'NDUS', 'CHAS', 'RM', 'AGE', 'DIS', 'RAD', 'TAX',\n",
      "       'PTRATIO', 'B', 'LSTAT', 'MEDV'],\n",
      "      dtype='object')\n",
      "Index(['CRIM', 'ZN', 'NDUS', 'CHAS', 'NOX', 'RM', 'AGE', 'DIS', 'RAD', 'TAX',\n",
      "       'PTRATIO', 'B', 'LSTAT'],\n",
      "      dtype='object')\n"
     ]
    }
   ],
   "source": [
    "print(nox_variable_columns)\n",
    "print(medv_var_columns)"
   ]
  },
  {
   "cell_type": "code",
   "execution_count": 5,
   "id": "80812422",
   "metadata": {},
   "outputs": [],
   "source": [
    "#this code finds the linear regession equation with respect to NOX and another for MEDV\n",
    "#it then prints the slope and the intercept for regression equation\n",
    "nox_outcome = {}\n",
    "for column in nox_variable_columns:\n",
    "    slope, intercept = np.polyfit(boston_data[column], boston_data['NOX'], 1)\n",
    "    nox_outcome[column] = (slope, intercept)\n",
    "\n",
    "medv_outcome = {}\n",
    "for column in medv_var_columns:\n",
    "    slope, intercept = np.polyfit(boston_data[column], boston_data['MEDV'], 1)\n",
    "    medv_outcome[column] = (slope, intercept)"
   ]
  },
  {
   "cell_type": "code",
   "execution_count": 7,
   "id": "8b7f405e",
   "metadata": {},
   "outputs": [
    {
     "name": "stdout",
     "output_type": "stream",
     "text": [
      "DIS: -0.7692301132258278\n",
      "NDUS: 0.7636514469209147\n",
      "AGE: 0.7314701037859582\n",
      "TAX: 0.6680232004030227\n",
      "RAD: 0.6114405634855773\n",
      "LSTAT: 0.5908789208808459\n",
      "ZN: -0.516603707827984\n",
      "MEDV: -0.4273207723732824\n",
      "CRIM: 0.4209717113924562\n",
      "B: -0.3800506377924001\n",
      "RM: -0.3021881878495937\n",
      "PTRATIO: 0.1889326771127671\n",
      "CHAS: 0.09120280684249515\n"
     ]
    }
   ],
   "source": [
    "correlations = {}#this gives me the correlation coefficient with respect to NOX levels\n",
    "for column in nox_variable_columns:\n",
    "    correlation = np.corrcoef(boston_data[column], boston_data['NOX'])[0, 1]\n",
    "    correlations[column] = correlation\n",
    "\n",
    "sorted_correlations = sorted(correlations.items(), key=lambda x: abs(x[1]), reverse=True)\n",
    "\n",
    "#this gives me the correlation coefficient for every column with respect to NOX\n",
    "for column, correlation in sorted_correlations:\n",
    "    print(f\"{column}: {correlation}\")"
   ]
  },
  {
   "cell_type": "markdown",
   "id": "e2c9fe7d",
   "metadata": {},
   "source": [
    "###  From this piece of code you can see that NDUS has the highest correlation coefficient, so the best predictor for NOX levels is:the proportion of non-retail business acres per town"
   ]
  },
  {
   "cell_type": "code",
   "execution_count": 19,
   "id": "67a50fa1",
   "metadata": {},
   "outputs": [
    {
     "name": "stdout",
     "output_type": "stream",
     "text": [
      "CRIM (Slope): -0.4151902779150915\n",
      "CRIM (Intercept): 24.033106174123883\n",
      "ZN (Slope): 0.14213999415535447\n",
      "ZN (Intercept): 20.917579117799832\n",
      "NDUS (Slope): -0.6484900536157154\n",
      "NDUS (Intercept): 29.754896511928486\n",
      "CHAS (Slope): 6.346157112526541\n",
      "CHAS (Intercept): 22.09384288747346\n",
      "NOX (Slope): -33.91605500866112\n",
      "NOX (Intercept): 41.34587446797325\n",
      "RM (Slope): 9.102108981180317\n",
      "RM (Intercept): -34.67062077643858\n",
      "AGE (Slope): -0.1231627212356798\n",
      "AGE (Intercept): 30.978677762618034\n",
      "DIS (Slope): 1.0916130158411113\n",
      "DIS (Intercept): 18.39008833049337\n",
      "RAD (Slope): -0.40309539555253127\n",
      "RAD (Intercept): 26.382128362272393\n",
      "TAX (Slope): -0.025568099481987284\n",
      "TAX (Intercept): 32.9706544936663\n",
      "PTRATIO (Slope): -2.1571752960609656\n",
      "PTRATIO (Intercept): 62.34462747483267\n",
      "B (Slope): 0.0335930601150136\n",
      "B (Intercept): 10.551034138417155\n",
      "LSTAT (Slope): -0.9500493537579913\n",
      "LSTAT (Intercept): 34.553840879383095\n"
     ]
    }
   ],
   "source": [
    "#this code gives me the equation for all equations with respect to NOX levels\n",
    "for column, (slope, intercept) in medv_outcome.items():\n",
    "    print(f\"{column} (Slope): {slope}\")\n",
    "    print(f\"{column} (Intercept): {intercept}\")"
   ]
  },
  {
   "cell_type": "code",
   "execution_count": null,
   "id": "213ada28",
   "metadata": {},
   "outputs": [],
   "source": [
    "#the regression equation for MEDV:\n",
    "x=0\n",
    "y=0.012898775828548526*x +0.4110442479509981"
   ]
  },
  {
   "cell_type": "markdown",
   "id": "f3ffc01a",
   "metadata": {},
   "source": [
    "# Median Home Value Predictor"
   ]
  },
  {
   "cell_type": "code",
   "execution_count": 11,
   "id": "6d2ed5bd",
   "metadata": {},
   "outputs": [
    {
     "name": "stdout",
     "output_type": "stream",
     "text": [
      "CRIM (Slope): -0.4151902779150915\n",
      "CRIM (Intercept): 24.033106174123883\n",
      "ZN (Slope): 0.14213999415535447\n",
      "ZN (Intercept): 20.917579117799832\n",
      "NDUS (Slope): -0.6484900536157154\n",
      "NDUS (Intercept): 29.754896511928486\n",
      "CHAS (Slope): 6.346157112526541\n",
      "CHAS (Intercept): 22.09384288747346\n",
      "NOX (Slope): -33.91605500866112\n",
      "NOX (Intercept): 41.34587446797325\n",
      "RM (Slope): 9.102108981180317\n",
      "RM (Intercept): -34.67062077643858\n",
      "AGE (Slope): -0.1231627212356798\n",
      "AGE (Intercept): 30.978677762618034\n",
      "DIS (Slope): 1.0916130158411113\n",
      "DIS (Intercept): 18.39008833049337\n",
      "RAD (Slope): -0.40309539555253127\n",
      "RAD (Intercept): 26.382128362272393\n",
      "TAX (Slope): -0.025568099481987284\n",
      "TAX (Intercept): 32.9706544936663\n",
      "PTRATIO (Slope): -2.1571752960609656\n",
      "PTRATIO (Intercept): 62.34462747483267\n",
      "B (Slope): 0.0335930601150136\n",
      "B (Intercept): 10.551034138417155\n",
      "LSTAT (Slope): -0.9500493537579913\n",
      "LSTAT (Intercept): 34.553840879383095\n"
     ]
    }
   ],
   "source": [
    "#this code gives me the equation for the linear regression line for MEDV values\n",
    "for column, (slope, intercept) in medv_outcome.items():\n",
    "    print(f\"{column} (Slope): {slope}\")\n",
    "    print(f\"{column} (Intercept): {intercept}\")"
   ]
  },
  {
   "cell_type": "code",
   "execution_count": 16,
   "id": "5abb883e",
   "metadata": {},
   "outputs": [
    {
     "name": "stdout",
     "output_type": "stream",
     "text": [
      "LSTAT: -0.7376627261740148\n",
      "RM: 0.695359947071539\n",
      "PTRATIO: -0.5077866855375615\n",
      "NDUS: -0.4837251600283728\n",
      "TAX: -0.46853593356776696\n",
      "NOX: -0.4273207723732824\n",
      "CRIM: -0.3883046085868114\n",
      "RAD: -0.38162623063977746\n",
      "AGE: -0.37695456500459606\n",
      "ZN: 0.3604453424505433\n",
      "B: 0.33346081965706637\n",
      "DIS: 0.24992873408590388\n",
      "CHAS: 0.17526017719029818\n"
     ]
    }
   ],
   "source": [
    "med_home_corr = {}#this gives me the correlation coefficient with respect to MEDV\n",
    "for column in medv_var_columns:\n",
    "    correlation = np.corrcoef(boston_data[column], boston_data['MEDV'])[0, 1]\n",
    "    med_home_corr[column] = correlation\n",
    "\n",
    "sorted_correlations = sorted(med_home_corr.items(), key=lambda x: abs(x[1]), reverse=True)\n",
    "\n",
    "#this gives me the correlation coefficient for every column with respect to MEDV values\n",
    "for column, correlation in sorted_correlations:\n",
    "    print(f\"{column}: {correlation}\")"
   ]
  },
  {
   "cell_type": "markdown",
   "id": "0dc86ee3",
   "metadata": {},
   "source": [
    "### The RM column has the highest correlation coefficient. So the best predictor for median home value is average number of rooms per dwelling"
   ]
  },
  {
   "cell_type": "code",
   "execution_count": 21,
   "id": "1d932ce2",
   "metadata": {},
   "outputs": [],
   "source": [
    "#the regression equation for median home value is\n",
    "x1=0\n",
    "medv_y = 9.102108981180317*x1-34.67062077643858"
   ]
  }
 ],
 "metadata": {
  "kernelspec": {
   "display_name": "Python 3 (ipykernel)",
   "language": "python",
   "name": "python3"
  },
  "language_info": {
   "codemirror_mode": {
    "name": "ipython",
    "version": 3
   },
   "file_extension": ".py",
   "mimetype": "text/x-python",
   "name": "python",
   "nbconvert_exporter": "python",
   "pygments_lexer": "ipython3",
   "version": "3.10.9"
  }
 },
 "nbformat": 4,
 "nbformat_minor": 5
}
