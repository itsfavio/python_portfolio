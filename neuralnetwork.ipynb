{
 "cells": [
  {
   "cell_type": "code",
   "execution_count": 1,
   "id": "dd953c64",
   "metadata": {
    "_cell_guid": "556cbc37-6c4e-4774-847c-61b75912fec1",
    "_uuid": "010093dd-6624-43c0-9dc8-20124a3918e3",
    "collapsed": false,
    "execution": {
     "iopub.execute_input": "2024-03-14T08:52:06.017633Z",
     "iopub.status.busy": "2024-03-14T08:52:06.016824Z",
     "iopub.status.idle": "2024-03-14T08:52:19.338353Z",
     "shell.execute_reply": "2024-03-14T08:52:19.336841Z"
    },
    "jupyter": {
     "outputs_hidden": false
    },
    "papermill": {
     "duration": 13.341574,
     "end_time": "2024-03-14T08:52:19.341674",
     "exception": false,
     "start_time": "2024-03-14T08:52:06.000100",
     "status": "completed"
    },
    "tags": []
   },
   "outputs": [
    {
     "name": "stderr",
     "output_type": "stream",
     "text": [
      "/opt/conda/lib/python3.10/site-packages/tensorflow_io/python/ops/__init__.py:98: UserWarning: unable to load libtensorflow_io_plugins.so: unable to open file: libtensorflow_io_plugins.so, from paths: ['/opt/conda/lib/python3.10/site-packages/tensorflow_io/python/ops/libtensorflow_io_plugins.so']\n",
      "caused by: ['/opt/conda/lib/python3.10/site-packages/tensorflow_io/python/ops/libtensorflow_io_plugins.so: undefined symbol: _ZN3tsl6StatusC1EN10tensorflow5error4CodeESt17basic_string_viewIcSt11char_traitsIcEENS_14SourceLocationE']\n",
      "  warnings.warn(f\"unable to load libtensorflow_io_plugins.so: {e}\")\n",
      "/opt/conda/lib/python3.10/site-packages/tensorflow_io/python/ops/__init__.py:104: UserWarning: file system plugins are not loaded: unable to open file: libtensorflow_io.so, from paths: ['/opt/conda/lib/python3.10/site-packages/tensorflow_io/python/ops/libtensorflow_io.so']\n",
      "caused by: ['/opt/conda/lib/python3.10/site-packages/tensorflow_io/python/ops/libtensorflow_io.so: undefined symbol: _ZTVN10tensorflow13GcsFileSystemE']\n",
      "  warnings.warn(f\"file system plugins are not loaded: {e}\")\n"
     ]
    }
   ],
   "source": [
    "import pandas as pd\n",
    "from tensorflow import keras\n",
    "from tensorflow.keras import layers\n",
    "import matplotlib.pyplot as plt\n",
    "import seaborn as sns\n",
    "import numpy as np\n",
    "\n",
    "from sklearn.model_selection import KFold\n",
    "from sklearn.linear_model import LinearRegression\n",
    "from sklearn.preprocessing import MinMaxScaler\n",
    "from scipy.stats import shapiro, kstest\n",
    "from scipy import stats\n",
    "\n",
    "sns.set(style='whitegrid')\n",
    "plt.rc('figure', autolayout=True)\n",
    "plt.rc('axes', labelweight='bold', labelsize='large',\n",
    "       titleweight='bold', titlesize=18, titlepad=10)"
   ]
  },
  {
   "cell_type": "markdown",
   "id": "a2bf836d",
   "metadata": {
    "_cell_guid": "c27d88cc-7e88-47d5-a6d8-fe82d82a074c",
    "_uuid": "b82c6180-56e1-49b9-a544-d51ee3bb6671",
    "papermill": {
     "duration": 0.008703,
     "end_time": "2024-03-14T08:52:19.360896",
     "exception": false,
     "start_time": "2024-03-14T08:52:19.352193",
     "status": "completed"
    },
    "tags": []
   },
   "source": [
    "### Importing the training data and observational data.\n",
    "#### Observational data will be used once the model is stable"
   ]
  },
  {
   "cell_type": "code",
   "execution_count": 2,
   "id": "a7abcaeb",
   "metadata": {
    "_cell_guid": "1b253309-6ee0-49cd-a836-e1ef97a681f5",
    "_uuid": "76fb5cfb-78ac-42e4-8158-69ffa724bd36",
    "collapsed": false,
    "execution": {
     "iopub.execute_input": "2024-03-14T08:52:19.381473Z",
     "iopub.status.busy": "2024-03-14T08:52:19.380519Z",
     "iopub.status.idle": "2024-03-14T08:52:19.543361Z",
     "shell.execute_reply": "2024-03-14T08:52:19.541682Z"
    },
    "jupyter": {
     "outputs_hidden": false
    },
    "papermill": {
     "duration": 0.176626,
     "end_time": "2024-03-14T08:52:19.546398",
     "exception": false,
     "start_time": "2024-03-14T08:52:19.369772",
     "status": "completed"
    },
    "tags": []
   },
   "outputs": [],
   "source": [
    "dalst = pd.read_csv(\"/kaggle/input/dalstcsv/dalst.csv\")\n",
    "observ_data = pd.read_csv(\"/kaggle/input/annavg3/annAvg_data2.csv\")"
   ]
  },
  {
   "cell_type": "code",
   "execution_count": 3,
   "id": "600af9ab",
   "metadata": {
    "_cell_guid": "5393cb04-c2a1-48d9-ad4b-fdf1090d7087",
    "_uuid": "1f35bfb8-a438-42d1-83f2-e2660f08ff6d",
    "collapsed": false,
    "execution": {
     "iopub.execute_input": "2024-03-14T08:52:19.567022Z",
     "iopub.status.busy": "2024-03-14T08:52:19.566547Z",
     "iopub.status.idle": "2024-03-14T08:52:19.587688Z",
     "shell.execute_reply": "2024-03-14T08:52:19.586390Z"
    },
    "jupyter": {
     "outputs_hidden": false
    },
    "papermill": {
     "duration": 0.034554,
     "end_time": "2024-03-14T08:52:19.590266",
     "exception": false,
     "start_time": "2024-03-14T08:52:19.555712",
     "status": "completed"
    },
    "tags": []
   },
   "outputs": [],
   "source": [
    "dalst =  dalst.drop(columns= ['#'])"
   ]
  },
  {
   "cell_type": "markdown",
   "id": "fdd1036c",
   "metadata": {
    "_cell_guid": "ca4cdf88-3af9-484c-ad2e-85916b150235",
    "_uuid": "363e67f2-6846-479f-86be-140bd8c3e4e6",
    "papermill": {
     "duration": 0.008485,
     "end_time": "2024-03-14T08:52:19.609661",
     "exception": false,
     "start_time": "2024-03-14T08:52:19.601176",
     "status": "completed"
    },
    "tags": []
   },
   "source": [
    "# Training Split:"
   ]
  },
  {
   "cell_type": "code",
   "execution_count": 4,
   "id": "39012b38",
   "metadata": {
    "_cell_guid": "b34b10cf-5f2b-4089-af5b-92a5339a59f9",
    "_uuid": "11e5468f-a5b8-4231-8d63-ece6cc77cb05",
    "collapsed": false,
    "execution": {
     "iopub.execute_input": "2024-03-14T08:52:19.630013Z",
     "iopub.status.busy": "2024-03-14T08:52:19.629516Z",
     "iopub.status.idle": "2024-03-14T08:52:19.635476Z",
     "shell.execute_reply": "2024-03-14T08:52:19.634401Z"
    },
    "jupyter": {
     "outputs_hidden": false
    },
    "papermill": {
     "duration": 0.019713,
     "end_time": "2024-03-14T08:52:19.638147",
     "exception": false,
     "start_time": "2024-03-14T08:52:19.618434",
     "status": "completed"
    },
    "tags": []
   },
   "outputs": [
    {
     "name": "stdout",
     "output_type": "stream",
     "text": [
      "Size of data set: 1615\n",
      "For this model 75% will be partioned for training, therefore the size of the training data is: 1211\n",
      "15% will be used for validation, size of validation data is: 242\n",
      "10% will be used for testing, size of tesing data is: 162\n"
     ]
    }
   ],
   "source": [
    "print(f\"Size of data set: {len(dalst)}\")\n",
    "print(f\"For this model 75% will be partioned for training, therefore the size of the training data is: {(.75*(len(dalst))):.0f}\")\n",
    "print(f\"15% will be used for validation, size of validation data is: {(.15*(len(dalst))):.0f}\")\n",
    "print(f\"10% will be used for testing, size of tesing data is: {(.10*(len(dalst))):.0f}\")"
   ]
  },
  {
   "cell_type": "code",
   "execution_count": 5,
   "id": "c77bf5f0",
   "metadata": {
    "_cell_guid": "137fa8da-d76c-49a1-8f87-1be029dd7d78",
    "_uuid": "8738be86-d5b3-4185-9cb4-c5ed72c4e3f6",
    "collapsed": false,
    "execution": {
     "iopub.execute_input": "2024-03-14T08:52:19.658762Z",
     "iopub.status.busy": "2024-03-14T08:52:19.657767Z",
     "iopub.status.idle": "2024-03-14T08:52:19.705297Z",
     "shell.execute_reply": "2024-03-14T08:52:19.703890Z"
    },
    "jupyter": {
     "outputs_hidden": false
    },
    "papermill": {
     "duration": 0.061067,
     "end_time": "2024-03-14T08:52:19.708140",
     "exception": false,
     "start_time": "2024-03-14T08:52:19.647073",
     "status": "completed"
    },
    "tags": []
   },
   "outputs": [],
   "source": [
    "from IPython.display import display\n",
    "\n",
    "# Create training and validation splits\n",
    "df_train = dalst.sample(frac=0.75, random_state=0)#this randomly allocates 75% of the data for training\n",
    "df_valid = dalst.drop(df_train.index)# this makes a copy of the og dataset and removes the training data,leaving the other 25%\n",
    "df_test  = df_valid.sample(frac=0.40, random_state=0)#(train.75= 1211, valid .15=242, test .1=161)\n",
    "df_valid = df_valid.drop(df_test.index)\n",
    "\n",
    "max_ = df_train.max(axis=0)\n",
    "min_ = df_train.min(axis=0)\n",
    "\n",
    "# 0-(-1) scale\n",
    "#df_train = ((df_train - min_) / (max_ - min_))\n",
    "#df_valid = ((df_valid - min_) / (max_ - min_))\n",
    "#df_test  = ((df_test  - min_) / (max_ - min_))\n",
    "\n",
    "#this scaling is from -1 to 1\n",
    "df_train = 2*((df_train - min_) / (max_ - min_))-1\n",
    "df_valid = 2*((df_valid - min_) / (max_ - min_))-1\n",
    "df_test  = 2*((df_test  - min_) / (max_ - min_))-1\n",
    "\n",
    "# scaling observational data \n",
    "observ_max = observ_data.max(axis=0)\n",
    "observ_min = observ_data.min(axis=0)\n",
    "observ_test= ((observ_data-observ_min) / (observ_max-observ_min))\n",
    "\n",
    "# Split features and target\n",
    "X_train = df_train.drop('taut', axis=1)\n",
    "y_train = df_train['taut']\n",
    "\n",
    "X_valid = df_valid.drop('taut', axis=1)\n",
    "y_valid = df_valid['taut']\n",
    "\n",
    "# format the input to use in the model\n",
    "X_test  = df_test.drop('taut', axis=1)\n",
    "y_test = df_test['taut'].to_frame()#this a series data type\n",
    "y_test = y_test.reset_index(drop=True)#this line converts it to a df, it needs to be of type df to run tests"
   ]
  },
  {
   "cell_type": "code",
   "execution_count": 6,
   "id": "ba76bd6b",
   "metadata": {
    "_cell_guid": "f95b74c1-78cd-4f03-8b4e-aaddf4b101c6",
    "_uuid": "3be9e4af-75cf-4aad-805e-938882572614",
    "collapsed": false,
    "execution": {
     "iopub.execute_input": "2024-03-14T08:52:19.728224Z",
     "iopub.status.busy": "2024-03-14T08:52:19.727695Z",
     "iopub.status.idle": "2024-03-14T08:52:19.734350Z",
     "shell.execute_reply": "2024-03-14T08:52:19.733090Z"
    },
    "jupyter": {
     "outputs_hidden": false
    },
    "papermill": {
     "duration": 0.019535,
     "end_time": "2024-03-14T08:52:19.736688",
     "exception": false,
     "start_time": "2024-03-14T08:52:19.717153",
     "status": "completed"
    },
    "tags": []
   },
   "outputs": [],
   "source": [
    "def unscale_values(scaled_values, min_value, max_value):\n",
    "    #return scaled_values * (max_value - min_value) + min_value #this is for [0,1] uncomment when using [-1,-1]\n",
    "    return ((scaled_values+1)/2) * (max_value - min_value) + min_value"
   ]
  },
  {
   "cell_type": "code",
   "execution_count": 7,
   "id": "b6a57fb1",
   "metadata": {
    "_cell_guid": "b003bc73-db10-46de-8e68-8f576a3a312e",
    "_uuid": "e335c864-6361-42ae-a567-c490a2825acb",
    "collapsed": false,
    "execution": {
     "iopub.execute_input": "2024-03-14T08:52:19.757562Z",
     "iopub.status.busy": "2024-03-14T08:52:19.757113Z",
     "iopub.status.idle": "2024-03-14T08:52:19.764321Z",
     "shell.execute_reply": "2024-03-14T08:52:19.763023Z"
    },
    "jupyter": {
     "outputs_hidden": false
    },
    "papermill": {
     "duration": 0.021278,
     "end_time": "2024-03-14T08:52:19.766971",
     "exception": false,
     "start_time": "2024-03-14T08:52:19.745693",
     "status": "completed"
    },
    "tags": []
   },
   "outputs": [],
   "source": [
    "from tensorflow.keras.callbacks import EarlyStopping\n",
    "\n",
    "early_stopping = EarlyStopping(\n",
    "    min_delta=0.00001, # minimium amount of change to count as an improvement\n",
    "    patience= 30, # how many epochs to wait before stopping\n",
    "    restore_best_weights=True,\n",
    "    #start_from_epoch = 20,\n",
    ")"
   ]
  },
  {
   "cell_type": "code",
   "execution_count": 8,
   "id": "19f6d4c9",
   "metadata": {
    "_cell_guid": "f61983ad-6502-481a-be97-e11a5cb5cf05",
    "_uuid": "b5ffb846-82c7-45a7-9871-dedb0438db21",
    "collapsed": false,
    "execution": {
     "iopub.execute_input": "2024-03-14T08:52:19.787639Z",
     "iopub.status.busy": "2024-03-14T08:52:19.787190Z",
     "iopub.status.idle": "2024-03-14T08:52:20.050398Z",
     "shell.execute_reply": "2024-03-14T08:52:20.048987Z"
    },
    "jupyter": {
     "outputs_hidden": false
    },
    "papermill": {
     "duration": 0.276956,
     "end_time": "2024-03-14T08:52:20.053329",
     "exception": false,
     "start_time": "2024-03-14T08:52:19.776373",
     "status": "completed"
    },
    "tags": []
   },
   "outputs": [],
   "source": [
    "model = keras.Sequential([\n",
    "    layers.Dense(units=256, activation='swish',input_shape=[8]),\n",
    "    #layers.Dropout(rate=0.2),#this was 0.2\n",
    "    \n",
    "    layers.Dense(units=256, activation='LeakyReLU'),\n",
    "   # layers.Dropout(rate=0.1),#this was 0.2\n",
    "    \n",
    "    layers.Dense(units=256, activation='LeakyReLU'),\n",
    "    layers.Dropout(rate=0.05),#this was 0.2\n",
    "    \n",
    "#     layers.Dense(units=256, activation='LeakyReLU'),\n",
    "#     layers.Dropout(rate=0.2),\n",
    "    # the linear output layer\n",
    "    layers.Dense(units=1) \n",
    "    \n",
    "])"
   ]
  },
  {
   "cell_type": "code",
   "execution_count": 9,
   "id": "3bc05c1a",
   "metadata": {
    "_cell_guid": "a40ea3d0-d695-4414-a053-6b969a101042",
    "_uuid": "81d9df5c-72dd-4103-a264-d3c3e04b019b",
    "collapsed": false,
    "execution": {
     "iopub.execute_input": "2024-03-14T08:52:20.074619Z",
     "iopub.status.busy": "2024-03-14T08:52:20.074139Z",
     "iopub.status.idle": "2024-03-14T08:52:20.101146Z",
     "shell.execute_reply": "2024-03-14T08:52:20.099548Z"
    },
    "jupyter": {
     "outputs_hidden": false
    },
    "papermill": {
     "duration": 0.041889,
     "end_time": "2024-03-14T08:52:20.104300",
     "exception": false,
     "start_time": "2024-03-14T08:52:20.062411",
     "status": "completed"
    },
    "tags": []
   },
   "outputs": [],
   "source": [
    "model.compile(\n",
    "    loss='mse',\n",
    "    optimizer='adam',\n",
    "    metrics=['mae'])"
   ]
  },
  {
   "cell_type": "code",
   "execution_count": 10,
   "id": "a5595e17",
   "metadata": {
    "_cell_guid": "c77957c1-1ee8-4a53-9a4b-74432265fef4",
    "_uuid": "3b526784-b609-48cc-9f3d-292d923f3d8d",
    "collapsed": false,
    "execution": {
     "iopub.execute_input": "2024-03-14T08:52:20.125620Z",
     "iopub.status.busy": "2024-03-14T08:52:20.124761Z",
     "iopub.status.idle": "2024-03-14T08:52:42.839820Z",
     "shell.execute_reply": "2024-03-14T08:52:42.838640Z"
    },
    "jupyter": {
     "outputs_hidden": false
    },
    "papermill": {
     "duration": 22.728916,
     "end_time": "2024-03-14T08:52:42.842413",
     "exception": false,
     "start_time": "2024-03-14T08:52:20.113497",
     "status": "completed"
    },
    "tags": []
   },
   "outputs": [
    {
     "name": "stdout",
     "output_type": "stream",
     "text": [
      "Minimum validation loss: 0.002345822285860777\n",
      "Minimum training loss: 0.0026490793097764254\n"
     ]
    },
    {
     "data": {
      "image/png": "[encoded data removed]",
      "text/plain": [
       "<Figure size 640x480 with 1 Axes>"
      ]
     },
     "metadata": {},
     "output_type": "display_data"
    }
   ],
   "source": [
    "history = model.fit(\n",
    "    X_train, y_train,\n",
    "    validation_data=(X_valid, y_valid),\n",
    "    batch_size=64,\n",
    "    epochs=500,\n",
    "    callbacks=[early_stopping], # put callbacks in a list\n",
    "    verbose=0,  # turn off training log\n",
    ")\n",
    "\n",
    "history_df = pd.DataFrame(history.history)#this creates a new df that keeps track of the training/validation \n",
    "history_df.loc[:, ['loss', 'val_loss']].plot();#this is used to visualize the loss history\n",
    "\n",
    "print(\"Minimum validation loss: {}\".format(history_df['val_loss'].min()))\n",
    "print(\"Minimum training loss: {}\".format(history_df['loss'].min()))"
   ]
  },
  {
   "cell_type": "code",
   "execution_count": 11,
   "id": "9cd17420",
   "metadata": {
    "_cell_guid": "068dfe84-6452-4626-9a19-bdeb3d8140e1",
    "_uuid": "4b661ba8-4430-4439-a32c-2b39e2be5b2a",
    "collapsed": false,
    "execution": {
     "iopub.execute_input": "2024-03-14T08:52:42.864648Z",
     "iopub.status.busy": "2024-03-14T08:52:42.863161Z",
     "iopub.status.idle": "2024-03-14T08:52:43.108221Z",
     "shell.execute_reply": "2024-03-14T08:52:43.106578Z"
    },
    "jupyter": {
     "outputs_hidden": false
    },
    "papermill": {
     "duration": 0.259211,
     "end_time": "2024-03-14T08:52:43.111203",
     "exception": false,
     "start_time": "2024-03-14T08:52:42.851992",
     "status": "completed"
    },
    "tags": []
   },
   "outputs": [
    {
     "name": "stdout",
     "output_type": "stream",
     "text": [
      "6/6 [==============================] - 0s 2ms/step\n"
     ]
    }
   ],
   "source": [
    "#This is the models first predictions being saved and assigned to variable FIRST_PRED\n",
    "FIRST_PRED = model.predict(X_test)\n",
    "FIRST_PRED = pd.DataFrame(FIRST_PRED)"
   ]
  },
  {
   "cell_type": "code",
   "execution_count": 12,
   "id": "7f7afa98",
   "metadata": {
    "_cell_guid": "4454d45c-3ea4-4232-af91-817ce446f27d",
    "_uuid": "5a827c0a-4c75-4926-8b97-86c99996ee40",
    "collapsed": false,
    "execution": {
     "iopub.execute_input": "2024-03-14T08:52:43.133132Z",
     "iopub.status.busy": "2024-03-14T08:52:43.132608Z",
     "iopub.status.idle": "2024-03-14T08:52:43.138740Z",
     "shell.execute_reply": "2024-03-14T08:52:43.137387Z"
    },
    "jupyter": {
     "outputs_hidden": false
    },
    "papermill": {
     "duration": 0.020123,
     "end_time": "2024-03-14T08:52:43.141249",
     "exception": false,
     "start_time": "2024-03-14T08:52:43.121126",
     "status": "completed"
    },
    "tags": []
   },
   "outputs": [],
   "source": [
    "from sklearn.metrics import mean_absolute_error, r2_score"
   ]
  },
  {
   "cell_type": "code",
   "execution_count": 13,
   "id": "d0ca62b3",
   "metadata": {
    "_cell_guid": "685c5955-70d7-4751-81b5-0be38532e7ef",
    "_uuid": "745eb210-7cad-4eda-b88c-e9d119500b7a",
    "collapsed": false,
    "execution": {
     "iopub.execute_input": "2024-03-14T08:52:43.162757Z",
     "iopub.status.busy": "2024-03-14T08:52:43.162326Z",
     "iopub.status.idle": "2024-03-14T08:52:43.168452Z",
     "shell.execute_reply": "2024-03-14T08:52:43.166841Z"
    },
    "jupyter": {
     "outputs_hidden": false
    },
    "papermill": {
     "duration": 0.020123,
     "end_time": "2024-03-14T08:52:43.171162",
     "exception": false,
     "start_time": "2024-03-14T08:52:43.151039",
     "status": "completed"
    },
    "tags": []
   },
   "outputs": [],
   "source": [
    "testplot = y_test\n",
    "modelplot = FIRST_PRED"
   ]
  },
  {
   "cell_type": "code",
   "execution_count": 14,
   "id": "aeeeba02",
   "metadata": {
    "_cell_guid": "65877e2b-8d6e-4b6b-8ec3-5080f721687c",
    "_uuid": "60b48126-e165-4c8b-ae1e-57d11c21842b",
    "collapsed": false,
    "execution": {
     "iopub.execute_input": "2024-03-14T08:52:43.193047Z",
     "iopub.status.busy": "2024-03-14T08:52:43.192618Z",
     "iopub.status.idle": "2024-03-14T08:52:43.203063Z",
     "shell.execute_reply": "2024-03-14T08:52:43.201484Z"
    },
    "jupyter": {
     "outputs_hidden": false
    },
    "papermill": {
     "duration": 0.024731,
     "end_time": "2024-03-14T08:52:43.205968",
     "exception": false,
     "start_time": "2024-03-14T08:52:43.181237",
     "status": "completed"
    },
    "tags": []
   },
   "outputs": [],
   "source": [
    "modelplot=modelplot.rename(columns={0: 'predicted'})\n",
    "testplot =testplot.rename(columns= {'taut': 'actual'})\n",
    "compare = pd.concat([modelplot, testplot], axis=1)"
   ]
  },
  {
   "cell_type": "code",
   "execution_count": 15,
   "id": "f9c94954",
   "metadata": {
    "_cell_guid": "07a86c73-95ec-4804-a153-452df7479ccc",
    "_uuid": "0068ebfd-deb9-486f-871d-46660def787d",
    "collapsed": false,
    "execution": {
     "iopub.execute_input": "2024-03-14T08:52:43.227584Z",
     "iopub.status.busy": "2024-03-14T08:52:43.227190Z",
     "iopub.status.idle": "2024-03-14T08:52:43.236695Z",
     "shell.execute_reply": "2024-03-14T08:52:43.235242Z"
    },
    "jupyter": {
     "outputs_hidden": false
    },
    "papermill": {
     "duration": 0.023484,
     "end_time": "2024-03-14T08:52:43.239445",
     "exception": false,
     "start_time": "2024-03-14T08:52:43.215961",
     "status": "completed"
    },
    "tags": []
   },
   "outputs": [],
   "source": [
    "from sklearn.metrics import mean_absolute_error, mean_squared_error, r2_score\n",
    "\n",
    "actual_values = compare['actual']\n",
    "predicted_values = compare['predicted']\n",
    "\n",
    "mae = mean_absolute_error(actual_values, predicted_values)\n",
    "mse = mean_squared_error(actual_values, predicted_values)\n",
    "r2 = r2_score(actual_values, predicted_values)"
   ]
  },
  {
   "cell_type": "code",
   "execution_count": 16,
   "id": "d8e21bcc",
   "metadata": {
    "_cell_guid": "22f614bf-28cb-48f9-873c-8600dddb3e77",
    "_uuid": "b99c2fc2-fa6e-49ed-aa3d-f2aea700da3c",
    "collapsed": false,
    "execution": {
     "iopub.execute_input": "2024-03-14T08:52:43.261688Z",
     "iopub.status.busy": "2024-03-14T08:52:43.260761Z",
     "iopub.status.idle": "2024-03-14T08:52:43.270820Z",
     "shell.execute_reply": "2024-03-14T08:52:43.269253Z"
    },
    "jupyter": {
     "outputs_hidden": false
    },
    "papermill": {
     "duration": 0.02431,
     "end_time": "2024-03-14T08:52:43.273589",
     "exception": false,
     "start_time": "2024-03-14T08:52:43.249279",
     "status": "completed"
    },
    "tags": []
   },
   "outputs": [
    {
     "name": "stdout",
     "output_type": "stream",
     "text": [
      "MAE: 0.01852588800723406\n",
      "MSE: 0.002355557132755832\n",
      "R^2: 0.7129820955344126\n",
      "Mean Absolute Percentage Error (MAPE): 3.48%\n"
     ]
    }
   ],
   "source": [
    "predicted_values = compare[\"predicted\"].values\n",
    "actual_values = compare[\"actual\"].values\n",
    "\n",
    "# This function calculates the Mean Absolute Percentage Error\n",
    "def m_a_p_e(y_true, y_pred):\n",
    "    return np.mean(np.abs((y_true - y_pred) / y_true))* 100\n",
    "\n",
    "mape = m_a_p_e(actual_values, predicted_values)\n",
    "\n",
    "print(f\"MAE: {mae}\")\n",
    "print(f\"MSE: {mse}\")\n",
    "print(f\"R^2: {r2}\")\n",
    "print(f\"Mean Absolute Percentage Error (MAPE): {mape:.2f}%\")"
   ]
  },
  {
   "cell_type": "markdown",
   "id": "a9d5e1cc",
   "metadata": {
    "_cell_guid": "e236250e-9aed-4c4f-bcee-3333e01b406a",
    "_uuid": "f2a1101a-ab4c-4a64-89bc-227e782aeccd",
    "papermill": {
     "duration": 0.009675,
     "end_time": "2024-03-14T08:52:43.293342",
     "exception": false,
     "start_time": "2024-03-14T08:52:43.283667",
     "status": "completed"
    },
    "tags": []
   },
   "source": [
    "# Testing the model's predictions"
   ]
  },
  {
   "cell_type": "code",
   "execution_count": 17,
   "id": "079327dc",
   "metadata": {
    "_cell_guid": "1aa3bbba-02cf-4591-aeac-8711e80ff40e",
    "_uuid": "a2b2b028-5fbf-4572-b231-9e06ddab90d3",
    "collapsed": false,
    "execution": {
     "iopub.execute_input": "2024-03-14T08:52:43.315611Z",
     "iopub.status.busy": "2024-03-14T08:52:43.315167Z",
     "iopub.status.idle": "2024-03-14T08:52:44.131627Z",
     "shell.execute_reply": "2024-03-14T08:52:44.130599Z"
    },
    "jupyter": {
     "outputs_hidden": false
    },
    "papermill": {
     "duration": 0.83102,
     "end_time": "2024-03-14T08:52:44.134432",
     "exception": false,
     "start_time": "2024-03-14T08:52:43.303412",
     "status": "completed"
    },
    "tags": []
   },
   "outputs": [
    {
     "data": {
      "image/png": "[encoded data removed]",
      "text/plain": [
       "<Figure size 640x480 with 1 Axes>"
      ]
     },
     "metadata": {},
     "output_type": "display_data"
    }
   ],
   "source": [
    "unscale_test = unscale_values(testplot,min_['taut'], max_['taut'])\n",
    "unscale_model = unscale_values(modelplot,min_['taut'], max_['taut'])\n",
    "\n",
    "# Create a scatter plot\n",
    "plt.scatter(unscale_test.index,unscale_test, color='blue', label='Actual')\n",
    "plt.scatter(unscale_model.index, unscale_model, color='black', label='NN Predictions')\n",
    "\n",
    "# Add labels and title\n",
    "plt.xlabel('index for LES data')\n",
    "plt.ylabel(r'$\\tau_t$'+ \" (in seconds)\")\n",
    "#plt.title('Actual vs. Predicted Values')\n",
    "\n",
    "# Add legend\n",
    "plt.legend()\n",
    "\n",
    "# Display the plot\n",
    "plt.show()"
   ]
  },
  {
   "cell_type": "code",
   "execution_count": 18,
   "id": "b34d1521",
   "metadata": {
    "_cell_guid": "8919bcee-08cb-4326-998e-74e96d601e35",
    "_uuid": "f3859633-3f7c-421d-9ea1-6a9372ede691",
    "collapsed": false,
    "execution": {
     "iopub.execute_input": "2024-03-14T08:52:44.160076Z",
     "iopub.status.busy": "2024-03-14T08:52:44.159171Z",
     "iopub.status.idle": "2024-03-14T08:52:44.172415Z",
     "shell.execute_reply": "2024-03-14T08:52:44.171231Z"
    },
    "jupyter": {
     "outputs_hidden": false
    },
    "papermill": {
     "duration": 0.028889,
     "end_time": "2024-03-14T08:52:44.175169",
     "exception": false,
     "start_time": "2024-03-14T08:52:44.146280",
     "status": "completed"
    },
    "tags": []
   },
   "outputs": [
    {
     "name": "stdout",
     "output_type": "stream",
     "text": [
      "The final MAPE for the unscaled actual data and the unscaled predictions is 8.78%\n"
     ]
    }
   ],
   "source": [
    "unscale_test = unscale_values(testplot, min_['taut'], max_['taut'])\n",
    "\n",
    "unscale_model = unscale_values(modelplot, min_['taut'], max_['taut'])\n",
    "\n",
    "# Create a DataFrame to hold the unscaled actual and predicted values\n",
    "resu = pd.DataFrame({\n",
    "    'Actual': unscale_test.iloc[:,0],\n",
    "    'Predicted': unscale_model.iloc[:,0]\n",
    "})\n",
    "\n",
    "# Calculating the Mean Absolute Percentage Error (MAPE)\n",
    "#mape_final = 100 * np.mean(np.abs((resu['Actual'] - resu['Predicted']) / resu['Actual']))\n",
    "mape_final = m_a_p_e(resu['Actual'],resu['Predicted'])\n",
    "print(f\"The final MAPE for the unscaled actual data and the unscaled predictions is {mape_final:.2f}%\")"
   ]
  },
  {
   "cell_type": "code",
   "execution_count": 19,
   "id": "a8e41d47",
   "metadata": {
    "_cell_guid": "8e23889b-8fcb-47e3-a1ce-bacd0e6953a5",
    "_uuid": "0a5e67b2-7dfc-4f71-b652-bf5420bf5baf",
    "collapsed": false,
    "execution": {
     "iopub.execute_input": "2024-03-14T08:52:44.200215Z",
     "iopub.status.busy": "2024-03-14T08:52:44.199676Z",
     "iopub.status.idle": "2024-03-14T08:52:44.227495Z",
     "shell.execute_reply": "2024-03-14T08:52:44.226160Z"
    },
    "jupyter": {
     "outputs_hidden": false
    },
    "papermill": {
     "duration": 0.046003,
     "end_time": "2024-03-14T08:52:44.232623",
     "exception": false,
     "start_time": "2024-03-14T08:52:44.186620",
     "status": "completed"
    },
    "tags": []
   },
   "outputs": [
    {
     "name": "stdout",
     "output_type": "stream",
     "text": [
      "Model: \"sequential\"\n",
      "_________________________________________________________________\n",
      " Layer (type)                Output Shape              Param #   \n",
      "=================================================================\n",
      " dense (Dense)               (None, 256)               2304      \n",
      "                                                                 \n",
      " dense_1 (Dense)             (None, 256)               65792     \n",
      "                                                                 \n",
      " dense_2 (Dense)             (None, 256)               65792     \n",
      "                                                                 \n",
      " dropout (Dropout)           (None, 256)               0         \n",
      "                                                                 \n",
      " dense_3 (Dense)             (None, 1)                 257       \n",
      "                                                                 \n",
      "=================================================================\n",
      "Total params: 134,145\n",
      "Trainable params: 134,145\n",
      "Non-trainable params: 0\n",
      "_________________________________________________________________\n"
     ]
    }
   ],
   "source": [
    "model.summary()"
   ]
  }
 ],
 "metadata": {
  "kaggle": {
   "accelerator": "none",
   "dataSources": [
    {
     "datasetId": 3464336,
     "sourceId": 6054787,
     "sourceType": "datasetVersion"
    },
    {
     "datasetId": 3511386,
     "sourceId": 6125182,
     "sourceType": "datasetVersion"
    },
    {
     "sourceId": 162822736,
     "sourceType": "kernelVersion"
    }
   ],
   "dockerImageVersionId": 30513,
   "isGpuEnabled": false,
   "isInternetEnabled": false,
   "language": "python",
   "sourceType": "notebook"
  },
  "kernelspec": {
   "display_name": "Python 3",
   "language": "python",
   "name": "python3"
  },
  "language_info": {
   "codemirror_mode": {
    "name": "ipython",
    "version": 3
   },
   "file_extension": ".py",
   "mimetype": "text/x-python",
   "name": "python",
   "nbconvert_exporter": "python",
   "pygments_lexer": "ipython3",
   "version": "3.10.10"
  },
  "papermill": {
   "default_parameters": {},
   "duration": 57.647815,
   "end_time": "2024-03-14T08:52:47.616694",
   "environment_variables": {},
   "exception": null,
   "input_path": "__notebook__.ipynb",
   "output_path": "__notebook__.ipynb",
   "parameters": {},
   "start_time": "2024-03-14T08:51:49.968879",
   "version": "2.4.0"
  }
 },
 "nbformat": 4,
 "nbformat_minor": 5
}
